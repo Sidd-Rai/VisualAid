{
 "cells": [
  {
   "cell_type": "code",
   "execution_count": null,
   "id": "d8dd7c8f",
   "metadata": {},
   "outputs": [],
   "source": [
    "import subprocess\n",
    "import time\n",
    "\n",
    "def ping_server(server, angle):\n",
    "    # Define the ping command with the server address\n",
    "    ping_command = f\"ping {server}\"\n",
    "\n",
    "    # Add the angle as a comment in the ping command\n",
    "    ping_command_with_angle = f\"{ping_command} # Angle: {angle}\"\n",
    "\n",
    "    try:\n",
    "        # Execute the ping command\n",
    "        subprocess.run(ping_command_with_angle, shell=True, check=True)\n",
    "    except subprocess.CalledProcessError:\n",
    "        print(f\"Ping to {server} failed.\")\n",
    "\n",
    "# Example usage:\n",
    "server_address = input(\"Enter the server address to ping: \")\n",
    "\n",
    "try:\n",
    "    while True:\n",
    "        angle = float(input(\"Enter the angle in degrees (or enter 'q' to quit): \"))\n",
    "        if angle == 'q':\n",
    "            break\n",
    "        print(f\"Pinging server {server_address} at angle {angle} degrees:\")\n",
    "        ping_server(server_address, angle)\n",
    "        time.sleep(1)  # Wait for 1 second before pinging again\n",
    "except ValueError:\n",
    "    print(\"Invalid input. Please enter a valid angle in degrees.\")\n"
   ]
  },
  {
   "cell_type": "code",
   "execution_count": null,
   "id": "de6f8eb0",
   "metadata": {},
   "outputs": [],
   "source": []
  }
 ],
 "metadata": {
  "kernelspec": {
   "display_name": "Python 3 (ipykernel)",
   "language": "python",
   "name": "python3"
  },
  "language_info": {
   "codemirror_mode": {
    "name": "ipython",
    "version": 3
   },
   "file_extension": ".py",
   "mimetype": "text/x-python",
   "name": "python",
   "nbconvert_exporter": "python",
   "pygments_lexer": "ipython3",
   "version": "3.10.6"
  }
 },
 "nbformat": 4,
 "nbformat_minor": 5
}
